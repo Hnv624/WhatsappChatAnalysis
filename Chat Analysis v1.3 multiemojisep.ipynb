{
 "cells": [
  {
   "cell_type": "code",
   "execution_count": 2,
   "metadata": {},
   "outputs": [],
   "source": [
    "import re\n",
    "import functools\n",
    "import operator\n",
    "\n",
    "import emoji"
   ]
  },
  {
   "cell_type": "code",
   "execution_count": 4,
   "metadata": {
    "scrolled": false
   },
   "outputs": [
    {
     "name": "stdout",
     "output_type": "stream",
     "text": [
      "\n",
      " Harin Vashi\n",
      "896 😂\n",
      "515 i\n",
      "405 the\n",
      "360 and\n",
      "353 you\n",
      "313 hai\n",
      "290 na\n",
      "278 to\n",
      "235 is\n",
      "222 it\n",
      "\n",
      " Advait Varma\n",
      "1315 😂\n",
      "293 i\n",
      "287 yes\n",
      "240 the\n",
      "197 hai\n",
      "189 you\n",
      "179 no\n",
      "158 and\n",
      "154 is\n",
      "150 it\n"
     ]
    }
   ],
   "source": [
    "file=open('chat.txt',encoding=\"utf8\")\n",
    "#text=file.read()\n",
    "#text=demoji.replace(txt)\n",
    "\n",
    "p0,p1,p2,p3,p4,p5,p6,p7,p8,p9,p10,p11,p12,p13,p14,p15,p16,p17,p18,p19,p20,p21,p22,p23,p24,p25,p26,p27,p28,p29=dict(),dict(),dict(),dict(),dict(),dict(),dict(),dict(),dict(),dict(),dict(),dict(),dict(),dict(),dict(),dict(),dict(),dict(),dict(),dict(),dict(),dict(),dict(),dict(),dict(),dict(),dict(),dict(),dict(),dict()\n",
    "#currently supports up to 30 participants, add more dictionaries (p30,p31....) to increase capacity \n",
    "#and add to list below\n",
    "ppld=[p0,p1,p2,p3,p4,p5,p6,p7,p8,p9,p10,p11,p12,p13,p14,p15,p16,p17,p18,p19,p20,p21,p22,p23,p24,p25,p26,p27,p28,p29]\n",
    "\n",
    "ppl=dict()  # dictionary of participants\n",
    "\n",
    "people=list()  # list of participants\n",
    "\n",
    "\n",
    "for line in file:\n",
    "    line=line.rstrip()        # for chats exported from apple devices, this will need some modification, \n",
    "    line=line.split(' - ')    # try replacing ' - ' with '] ' \n",
    "    try:\n",
    "        remtime=line[1]       # removes time stamp\n",
    "    except:\n",
    "        continue\n",
    "    msg=remtime.split(': ')   # seperates messages from senders\n",
    "    try: (sender,text)=msg[0],msg[1]\n",
    "    except: continue\n",
    "    ppl[sender]=ppl.get(sender,0)+1   # counts number of messages per participant\n",
    "    people=list(ppl)\n",
    "    for i in range(len(people)):\n",
    "        if '<Media' in text: continue\n",
    "        elif people[i] in sender:\n",
    "            em_split_emoji = emoji.get_emoji_regexp().split(text)                   # to prevent emoji use like 😂 and 😂😂 \n",
    "            em_split_whitespace = [substr.split() for substr in em_split_emoji]     # getting counted as seperate words, instead \n",
    "            words = functools.reduce(operator.concat, em_split_whitespace)          # 😂😂 is counted a 😂 twice\n",
    "            for word in words:\n",
    "                word=word.lower()    # converts all words to lovercase eg. to prevent Hi and hi from being counted as distinct\n",
    "                if len(word)>0:      # if you want a minimum character count to words, set this as that number, otherwise 0\n",
    "                    ppld[i][word]=ppld[i].get(word,0)+1        \n",
    "\n",
    "\n",
    "# arranging the information #                    \n",
    "n=10            # number of results desired per participant\n",
    "tmp=list()\n",
    "for i in range(len(people)):\n",
    "    tmp.clear()  \n",
    "    print('\\n',people[i])    # prints participant name\n",
    "    tmp = list()\n",
    "    for k,v in ppld[i].items():\n",
    "        newtup=(v,k)\n",
    "        tmp.append(newtup)\n",
    "    tmp=sorted(tmp, reverse=True)\n",
    "    for v,k in tmp[:n]:\n",
    "        print(v,k)           # prints the count of how many times the word was used, and the word\n",
    "\n"
   ]
  },
  {
   "cell_type": "code",
   "execution_count": null,
   "metadata": {},
   "outputs": [],
   "source": []
  }
 ],
 "metadata": {
  "kernelspec": {
   "display_name": "Python 3",
   "language": "python",
   "name": "python3"
  },
  "language_info": {
   "codemirror_mode": {
    "name": "ipython",
    "version": 3
   },
   "file_extension": ".py",
   "mimetype": "text/x-python",
   "name": "python",
   "nbconvert_exporter": "python",
   "pygments_lexer": "ipython3",
   "version": "3.8.2"
  }
 },
 "nbformat": 4,
 "nbformat_minor": 4
}
